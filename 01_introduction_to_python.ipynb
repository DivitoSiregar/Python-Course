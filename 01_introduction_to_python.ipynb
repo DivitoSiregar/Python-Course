{
 "cells": [
  {
   "cell_type": "markdown",
   "metadata": {},
   "source": [
    "# Intro to Ptyhon (Pengantar Python)\n",
    "\n",
    "### English Language\n",
    "Generally, when we want to learn a programming language, we often start by running the \"hello world\" command, and the same goes for the Python programming language. How do we display \"hello world\" in Python? Take a look at the code below.\n",
    "\n",
    "### Indonesian Language\n",
    "Pada umumnya jika kita hendak belajar bahasa pemrograman, kerap kita akan sering memulai dengan menjalankan peringtah \"hello world\", begitu juga dengan bahasa pemrograman python. Bagaimana cara menampilkan \"hello world\" pada python? Perhatikan code dibawah ini.\n"
   ]
  },
  {
   "cell_type": "code",
   "execution_count": 1,
   "metadata": {},
   "outputs": [
    {
     "name": "stdout",
     "output_type": "stream",
     "text": [
      "Hello world!\n"
     ]
    }
   ],
   "source": [
    "print(\"Hello world!\")"
   ]
  },
  {
   "cell_type": "markdown",
   "metadata": {},
   "source": [
    "### English Language\n",
    "From the code above, to run the \"Hello World\" command, we simply call it using the print(\"Hello World\") command.\n",
    "Likewise, if we want to call another command, for example, to create a paragraph, we can do so. Take a look at the code below.\n",
    "\n",
    "### Indonesian Language\n",
    "Dari code diatas, untuk menjalankan perintah \"Hello World\" kita cukup memanggilnya menggunakkan prerintah prin(\"Hello world\"). Begitu juga jika kita hendak memanggil perintah lain, misalnya kita hendak membuat suatu paragraf. Perhatikan code dibawah ini.\n",
    "\n",
    "\n",
    "\n",
    "\n",
    "\n"
   ]
  },
  {
   "cell_type": "code",
   "execution_count": 2,
   "metadata": {},
   "outputs": [
    {
     "name": "stdout",
     "output_type": "stream",
     "text": [
      "Hello, welcome to the Python programming learning session. Keep up the spirit, you can definitely become a Python expert!\n"
     ]
    }
   ],
   "source": [
    "print(\"Hello, welcome to the Python programming learning session. Keep up the spirit, you can definitely become a Python expert!\")"
   ]
  }
 ],
 "metadata": {
  "kernelspec": {
   "display_name": "base",
   "language": "python",
   "name": "python3"
  },
  "language_info": {
   "codemirror_mode": {
    "name": "ipython",
    "version": 3
   },
   "file_extension": ".py",
   "mimetype": "text/x-python",
   "name": "python",
   "nbconvert_exporter": "python",
   "pygments_lexer": "ipython3",
   "version": "3.10.9"
  }
 },
 "nbformat": 4,
 "nbformat_minor": 2
}
